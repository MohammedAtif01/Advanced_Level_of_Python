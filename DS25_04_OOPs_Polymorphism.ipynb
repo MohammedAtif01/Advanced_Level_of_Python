{
  "cells": [
    {
      "cell_type": "markdown",
      "metadata": {
        "id": "_ze0VpFjPnyP"
      },
      "source": [
        "# OOPs Part 4 : Polymorphism\n",
        "--------"
      ]
    },
    {
      "cell_type": "markdown",
      "metadata": {
        "id": "9Mz9G2bfPnyc"
      },
      "source": [
        "* The term polymorphism has came from Greek words. `poly` meaning `many` and `morphism` meaning `forms`.\n",
        "* It creates structures that are capable of taking or using different forms."
      ]
    },
    {
      "cell_type": "markdown",
      "metadata": {
        "id": "u6Ov3Ka-Pnye"
      },
      "source": [
        "## A simple Python function to demonstrate Polymorphism"
      ]
    },
    {
      "cell_type": "code",
      "execution_count": null,
      "metadata": {
        "id": "ibKDKkrpPnyf"
      },
      "outputs": [],
      "source": [
        "# A simple Python function to demonstrate Polymorphism\n",
        "def multiply(a, b, z=1):\n",
        "    return a * b*z"
      ]
    },
    {
      "cell_type": "code",
      "execution_count": null,
      "metadata": {
        "id": "9PDldvKwPnyi",
        "outputId": "7d1aebe6-9a5b-467c-859c-3c0563e3bc8a"
      },
      "outputs": [
        {
          "name": "stdout",
          "output_type": "stream",
          "text": [
            "12\n",
            "24\n"
          ]
        }
      ],
      "source": [
        "print(multiply(3, 4)) # form1\n",
        "print(multiply(2, 3, 4)) # form 2"
      ]
    },
    {
      "cell_type": "markdown",
      "metadata": {
        "id": "o0UoHFPXPnyk"
      },
      "source": [
        "## Polymorphism with Class Methods\n",
        "* same method has different forms"
      ]
    },
    {
      "cell_type": "code",
      "execution_count": null,
      "metadata": {
        "id": "lmuEkB5lPnyl"
      },
      "outputs": [],
      "source": [
        "class a():\n",
        "    def explore(self):\n",
        "        print(\"exploring class a\")\n",
        "class b(a):\n",
        "    def explore(self):\n",
        "        print(\"exploring class b\")"
      ]
    },
    {
      "cell_type": "code",
      "execution_count": null,
      "metadata": {
        "id": "ZYk8GgIMPnym",
        "outputId": "51b0da7b-ea64-4e0c-8ac5-d402e3e18955"
      },
      "outputs": [
        {
          "name": "stdout",
          "output_type": "stream",
          "text": [
            "exploring class a\n"
          ]
        }
      ],
      "source": [
        "obj1=a()\n",
        "obj1.explore()"
      ]
    },
    {
      "cell_type": "code",
      "execution_count": null,
      "metadata": {
        "id": "-aoPdHPGPnyn",
        "outputId": "50ce2458-706c-474f-8927-3b5f40447bb9"
      },
      "outputs": [
        {
          "name": "stdout",
          "output_type": "stream",
          "text": [
            "exploring class b\n"
          ]
        }
      ],
      "source": [
        "obj2=b()\n",
        "obj2.explore()"
      ]
    }
  ],
  "metadata": {
    "kernelspec": {
      "display_name": "Python 3",
      "language": "python",
      "name": "python3"
    },
    "language_info": {
      "codemirror_mode": {
        "name": "ipython",
        "version": 3
      },
      "file_extension": ".py",
      "mimetype": "text/x-python",
      "name": "python",
      "nbconvert_exporter": "python",
      "pygments_lexer": "ipython3",
      "version": "3.6.9"
    },
    "toc-autonumbering": true,
    "colab": {
      "provenance": []
    }
  },
  "nbformat": 4,
  "nbformat_minor": 0
}